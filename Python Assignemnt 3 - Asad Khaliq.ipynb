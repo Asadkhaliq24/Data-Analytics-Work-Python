{
 "cells": [
  {
   "cell_type": "code",
   "execution_count": 1,
   "id": "c6617715-773b-4b53-9336-8992b1a4259f",
   "metadata": {},
   "outputs": [
    {
     "name": "stdout",
     "output_type": "stream",
     "text": [
      "Twinkle, twinkle, little star, \n",
      "\tHow I wonder what you are! \n",
      "\t\tUp above the world so high, \n",
      "\t\tLike a diamond in the sky. \n",
      "Twinkle, twinkle, little star, \n",
      "\tHow I wonder what you are!\n"
     ]
    }
   ],
   "source": [
    "print(\"Twinkle, twinkle, little star, \\n\\tHow I wonder what you are! \\n\\t\\tUp above the world so high, \\n\\t\\tLike a diamond in the sky. \\nTwinkle, twinkle, little star, \\n\\tHow I wonder what you are!\")"
   ]
  },
  {
   "cell_type": "code",
   "execution_count": 2,
   "id": "384f4518-80aa-4483-93a6-d3f59f837b76",
   "metadata": {},
   "outputs": [
    {
     "name": "stdout",
     "output_type": "stream",
     "text": [
      "Python version\n",
      "3.12.4 | packaged by Anaconda, Inc. | (main, Jun 18 2024, 15:03:56) [MSC v.1929 64 bit (AMD64)]\n",
      "Version info.\n",
      "sys.version_info(major=3, minor=12, micro=4, releaselevel='final', serial=0)\n"
     ]
    }
   ],
   "source": [
    "import sys\n",
    "print(\"Python version\")\n",
    "print (sys.version)\n",
    "\n",
    "print(\"Version info.\")\n",
    "print (sys.version_info)"
   ]
  },
  {
   "cell_type": "code",
   "execution_count": 3,
   "id": "7a6df8a8-f36c-4bb0-8ff2-70c357a9344c",
   "metadata": {},
   "outputs": [
    {
     "name": "stdout",
     "output_type": "stream",
     "text": [
      "3.12.4\n"
     ]
    }
   ],
   "source": [
    "from platform import python_version\n",
    "print(python_version())"
   ]
  },
  {
   "cell_type": "code",
   "execution_count": 4,
   "id": "b1138cc2-96bc-4c36-b75f-8e5ca965c51c",
   "metadata": {},
   "outputs": [
    {
     "name": "stdout",
     "output_type": "stream",
     "text": [
      "Current date and time : \n",
      "2024-08-02 12:06:30\n"
     ]
    }
   ],
   "source": [
    "# Import the 'datetime' module to work with date and time\n",
    "import datetime\n",
    "\n",
    "# Get the current date and time\n",
    "now = datetime.datetime.now()\n",
    "\n",
    "# Create a datetime object representing the current date and time\n",
    "\n",
    "# Display a message indicating what is being printed\n",
    "print(\"Current date and time : \")\n",
    "\n",
    "# Print the current date and time in a specific format\n",
    "print(now.strftime(\"%Y-%m-%d %H:%M:%S\"))\n",
    "\n",
    "# Use the 'strftime' method to format the datetime object as a string with the desired format\n"
   ]
  },
  {
   "cell_type": "code",
   "execution_count": 5,
   "id": "cf3c0aa9-973a-42e1-816f-35088f4308bc",
   "metadata": {},
   "outputs": [
    {
     "name": "stdout",
     "output_type": "stream",
     "text": [
      "Today's date: 2024-08-02\n"
     ]
    }
   ],
   "source": [
    "from datetime import date\n",
    "\n",
    "today = date.today()\n",
    "print(\"Today's date:\", today)"
   ]
  },
  {
   "cell_type": "code",
   "execution_count": 6,
   "id": "f2663028-c955-4d4e-ac22-605ff13ab4eb",
   "metadata": {},
   "outputs": [
    {
     "name": "stdin",
     "output_type": "stream",
     "text": [
      "Input the radius of the circle :  2.0\n"
     ]
    },
    {
     "name": "stdout",
     "output_type": "stream",
     "text": [
      "The area of the circle with radius 2.0 is: 12.566370614359172\n"
     ]
    }
   ],
   "source": [
    "# Import the 'pi' constant from the 'math' module to calculate the area of a circle\n",
    "from math import pi\n",
    "\n",
    "# Prompt the user to input the radius of the circle\n",
    "r = float(input(\"Input the radius of the circle : \"))\n",
    "\n",
    "# Calculate the area of the circle using the formula: area = π * r^2\n",
    "area = pi * r ** 2\n",
    "\n",
    "# Display the result, including the radius and calculated area\n",
    "print(\"The area of the circle with radius \" + str(r) + \" is: \" + str(area))\n"
   ]
  },
  {
   "cell_type": "code",
   "execution_count": 7,
   "id": "764f7b5d-562d-4c35-979f-94eee0ab1572",
   "metadata": {},
   "outputs": [
    {
     "name": "stdin",
     "output_type": "stream",
     "text": [
      "Input your First Name :  Asad\n",
      "Input your Last Name :  Khaliq\n"
     ]
    },
    {
     "name": "stdout",
     "output_type": "stream",
     "text": [
      "Hello  Khaliq Asad\n"
     ]
    }
   ],
   "source": [
    "# Prompt the user to input their first name and store it in the 'fname' variable\n",
    "fname = input(\"Input your First Name : \")\n",
    "\n",
    "# Prompt the user to input their last name and store it in the 'lname' variable\n",
    "lname = input(\"Input your Last Name : \")\n",
    "\n",
    "# Display a greeting message with the last name followed by the first name\n",
    "print(\"Hello  \" + lname + \" \" + fname)\n"
   ]
  },
  {
   "cell_type": "code",
   "execution_count": 8,
   "id": "503b01f5-f042-4761-854a-3bc54095b9f5",
   "metadata": {},
   "outputs": [
    {
     "name": "stdin",
     "output_type": "stream",
     "text": [
      "Type a number:  32\n",
      "Type another number:  4\n"
     ]
    },
    {
     "name": "stdout",
     "output_type": "stream",
     "text": [
      "The sum is:  36\n"
     ]
    }
   ],
   "source": [
    "x = input(\"Type a number: \")\n",
    "y = input(\"Type another number: \")\n",
    "\n",
    "sum = int(x) + int(y)\n",
    "\n",
    "print(\"The sum is: \", sum)"
   ]
  },
  {
   "cell_type": "code",
   "execution_count": 9,
   "id": "41df4874-c4da-4aa7-b4a9-78bf33587da1",
   "metadata": {},
   "outputs": [
    {
     "name": "stdin",
     "output_type": "stream",
     "text": [
      "Student 1 (courses 1-4):  62\n",
      "Student 2 (courses 1-4):  85\n",
      "Student 3 (courses 1-4):  92\n",
      "Student 4 (courses 1-4):  55\n",
      "Student 5 (courses 1-4):  70\n"
     ]
    },
    {
     "name": "stdout",
     "output_type": "stream",
     "text": [
      "The Highest average mark of students = 72.8\n",
      "The Highest average mark of courses = 18.2\n"
     ]
    }
   ],
   "source": [
    "m1 = int(input(\"Student 1 (courses 1-4): \"))\n",
    "m2 = int(input(\"Student 2 (courses 1-4): \"))\n",
    "m3 = int(input(\"Student 3 (courses 1-4): \"))\n",
    "m4 = int(input(\"Student 4 (courses 1-4): \"))\n",
    "m5 = int(input(\"Student 5 (courses 1-4): \"))\n",
    "\n",
    "avg = (m1 + m2+ m3+ m4 + m5) / 5;\n",
    "avg1 =(m1 + m2+ m3+ m4 + m5) / 20;\n",
    "print(\"The Highest average mark of students =\", avg)\n",
    "print(\"The Highest average mark of courses =\", avg1)"
   ]
  },
  {
   "cell_type": "code",
   "execution_count": 10,
   "id": "06650e9b-fdfc-4a3f-ac0c-4ad2484d3cea",
   "metadata": {},
   "outputs": [
    {
     "name": "stdin",
     "output_type": "stream",
     "text": [
      "Enter a number:  5\n"
     ]
    },
    {
     "name": "stdout",
     "output_type": "stream",
     "text": [
      "This is an odd number.\n"
     ]
    }
   ],
   "source": [
    "# Prompt the user to enter a number and convert the input to an integer\n",
    "num = int(input(\"Enter a number: \"))\n",
    "\n",
    "# Calculate the remainder when the number is divided by 2\n",
    "mod = num % 2\n",
    "\n",
    "# Check if the remainder is greater than 0, indicating an odd number\n",
    "if mod > 0:\n",
    "    # Print a message indicating that the number is odd\n",
    "    print(\"This is an odd number.\")\n",
    "else:\n",
    "    # Print a message indicating that the number is even\n",
    "    print(\"This is an even number.\")\n"
   ]
  },
  {
   "cell_type": "code",
   "execution_count": 11,
   "id": "2c53a240-ec65-4448-98de-7d3c81658473",
   "metadata": {},
   "outputs": [
    {
     "name": "stdout",
     "output_type": "stream",
     "text": [
      "[2, 1, 4, 55, 1, 88, 16, 98, 100]\n",
      "Length of list using len():  9\n"
     ]
    }
   ],
   "source": [
    "#length of list using len()\n",
    "\n",
    "#function\n",
    "def list_length(list):\n",
    "    return len(list)\n",
    "\n",
    "#initialise list\n",
    "li=[2,1,4,55,1,88,16,98,100]\n",
    "\n",
    "# Printing list\n",
    "print(li)\n",
    "\n",
    "# Printing length of list\n",
    "print(\"Length of list using len(): \",list_length(li))"
   ]
  },
  {
   "cell_type": "code",
   "execution_count": 12,
   "id": "0ece0753-753a-4827-895c-cb619b778858",
   "metadata": {},
   "outputs": [
    {
     "name": "stdout",
     "output_type": "stream",
     "text": [
      "150\n"
     ]
    }
   ],
   "source": [
    "# Define a list of numbers \n",
    "mylist = [10, 20, 30, 40, 50] \n",
    "  \n",
    "# Initialize a variable to store the sum \n",
    "total_sum = 0\n",
    "  \n",
    "# Iterate through the list and accumulate the sum \n",
    "for item in mylist: \n",
    "    total_sum += item \n",
    "  \n",
    "# Print the final sum \n",
    "print(total_sum)"
   ]
  },
  {
   "cell_type": "code",
   "execution_count": 13,
   "id": "17c990e6-0d8c-4f8f-abbc-aa66b67866a0",
   "metadata": {},
   "outputs": [
    {
     "name": "stdout",
     "output_type": "stream",
     "text": [
      "largest in  [3, 9, 7, 3, 6, 5, 7, 24, 6] is\n",
      "24\n"
     ]
    }
   ],
   "source": [
    "#largest element in list\n",
    "\n",
    "#function\n",
    "def largest(list):\n",
    "    large= list[0]\n",
    "    for i in list:\n",
    "        if i>large:\n",
    "            large=i\n",
    "    return large\n",
    "\n",
    "#list\n",
    "list=[3, 9, 7, 3, 6, 5, 7, 24, 6]\n",
    "print(\"largest in \",list,\"is\")\n",
    "print(largest(list))\n"
   ]
  },
  {
   "cell_type": "code",
   "execution_count": 14,
   "id": "e23d492c-c80f-4f6d-b146-79e13437aea6",
   "metadata": {},
   "outputs": [
    {
     "name": "stdout",
     "output_type": "stream",
     "text": [
      "Largest Number : 40\n"
     ]
    }
   ],
   "source": [
    "a=[1,7,10,40,2,8]\n",
    "\"\"\"\n",
    "print(\"Largest Number :\",max(a))\n",
    "\"\"\"\n",
    "max = a[ 0 ]\n",
    "for i in a:\n",
    "\tif i > max:\n",
    "\t\tmax = i\n",
    "print(\"Largest Number :\",max)"
   ]
  },
  {
   "cell_type": "code",
   "execution_count": 15,
   "id": "c3a7285e-8ed5-45f0-9bc2-13549a219a72",
   "metadata": {},
   "outputs": [
    {
     "name": "stdout",
     "output_type": "stream",
     "text": [
      "1\n",
      "1\n",
      "2\n",
      "3\n",
      "[1, 1, 2, 3]\n"
     ]
    }
   ],
   "source": [
    "a = [1, 1, 2, 3, 5, 8, 13, 21, 34, 55, 89]\n",
    "\n",
    "# basic problem:\n",
    "for x in a:\n",
    "    if x< 5: print(x)\n",
    "\n",
    "# combine challenges 1 and 2:\n",
    "print( [ x for x in a if x<5 ] )"
   ]
  }
 ],
 "metadata": {
  "kernelspec": {
   "display_name": "Python 3 (ipykernel)",
   "language": "python",
   "name": "python3"
  },
  "language_info": {
   "codemirror_mode": {
    "name": "ipython",
    "version": 3
   },
   "file_extension": ".py",
   "mimetype": "text/x-python",
   "name": "python",
   "nbconvert_exporter": "python",
   "pygments_lexer": "ipython3",
   "version": "3.12.4"
  }
 },
 "nbformat": 4,
 "nbformat_minor": 5
}
